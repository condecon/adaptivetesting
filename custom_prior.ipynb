{
 "cells": [
  {
   "cell_type": "code",
   "execution_count": 2,
   "metadata": {},
   "outputs": [],
   "source": [
    "import adaptivetesting\n",
    "import numpy as np\n",
    "import matplotlib.pyplot as plt\n",
    "import scipy.stats"
   ]
  },
  {
   "cell_type": "code",
   "execution_count": 3,
   "id": "976ee871",
   "metadata": {},
   "outputs": [],
   "source": [
    "x = np.linspace(-10, 10, 1000)"
   ]
  },
  {
   "cell_type": "code",
   "execution_count": 4,
   "id": "615b3759",
   "metadata": {},
   "outputs": [],
   "source": [
    "from adaptivetesting.math.estimators import likelihood, CustomPrior, maximize_posterior"
   ]
  },
  {
   "cell_type": "code",
   "execution_count": 5,
   "id": "ce67dc47",
   "metadata": {},
   "outputs": [],
   "source": [
    "import pandas as pd\n",
    "items = pd.DataFrame({\"a\":[1.3024,1.078,0.8758,0.5571,1.225,0.991,0.9968,1.1888,1.1642,1.1188],\"b\":[-0.6265,0.1836,-0.8356,1.5953,0.3295,-0.8205,0.4874,0.7383,0.5758,-0.3054],\"c\":[0.2052,0.1618,0.1957,0.1383,0.1324,0.1973,0.0058,0.1193,0.1831,0.1732],\"d\":[0.8694,0.9653,0.8595,0.8112,0.7677,0.7749,0.8291,0.8797,0.9155,0.8517]})"
   ]
  },
  {
   "cell_type": "code",
   "execution_count": 6,
   "id": "71e6ced2",
   "metadata": {},
   "outputs": [],
   "source": [
    "response_pattern = np.array([0,0,1,1,1,0,0,0,0,1])"
   ]
  },
  {
   "cell_type": "code",
   "execution_count": 7,
   "id": "b030bd91",
   "metadata": {},
   "outputs": [],
   "source": [
    "lik_values = [likelihood(i, items[\"a\"].to_numpy(), items[\"b\"].to_numpy(), items[\"c\"].to_numpy(), items[\"d\"].to_numpy(), response_pattern) for i in x]"
   ]
  },
  {
   "cell_type": "code",
   "execution_count": 8,
   "id": "75a2676a",
   "metadata": {},
   "outputs": [],
   "source": [
    "# calculate\n",
    "custom_prior = CustomPrior(scipy.stats.beta, 0.6, 0.9)\n",
    "\n",
    "prior_values = np.array(custom_prior.pdf(x))"
   ]
  },
  {
   "cell_type": "code",
   "execution_count": 9,
   "id": "51ef1b1e",
   "metadata": {},
   "outputs": [
    {
     "data": {
      "text/plain": [
       "<matplotlib.legend.Legend at 0x14c2fb54320>"
      ]
     },
     "execution_count": 9,
     "metadata": {},
     "output_type": "execute_result"
    },
    {
     "data": {
      "image/png": "[encoded data removed]",
      "text/plain": [
       "<Figure size 640x480 with 1 Axes>"
      ]
     },
     "metadata": {},
     "output_type": "display_data"
    }
   ],
   "source": [
    "fig, ax = plt.subplots()\n",
    "ax.plot(x, lik_values, color=\"blue\", label=\"Likelihood\")\n",
    "# ax.plot(x, -prior_values, color=\"red\", label=\"Prior\")\n",
    "ax.plot(x, prior_values * lik_values * 100 , color=\"orange\", label=\"Unimarginalized Posterior\")\n",
    "ax.legend()"
   ]
  },
  {
   "cell_type": "code",
   "execution_count": 10,
   "id": "79206797",
   "metadata": {},
   "outputs": [
    {
     "data": {
      "text/plain": [
       "9.99999335625205"
      ]
     },
     "execution_count": 10,
     "metadata": {},
     "output_type": "execute_result"
    }
   ],
   "source": [
    "maximize_posterior(\n",
    "    a=items[\"a\"].to_numpy(),\n",
    "    b=items[\"b\"].to_numpy(),\n",
    "    c=items[\"c\"].to_numpy(),\n",
    "    d=items[\"d\"].to_numpy(),\n",
    "    response_pattern=response_pattern,\n",
    "    prior=custom_prior\n",
    ")"
   ]
  },
  {
   "cell_type": "code",
   "execution_count": 11,
   "id": "b39e4325",
   "metadata": {},
   "outputs": [
    {
     "data": {
      "text/plain": [
       "np.float32(-0.0026948217)"
      ]
     },
     "execution_count": 11,
     "metadata": {},
     "output_type": "execute_result"
    }
   ],
   "source": [
    "min(lik_values * prior_values)"
   ]
  },
  {
   "cell_type": "code",
   "execution_count": 12,
   "id": "2466b1f4",
   "metadata": {},
   "outputs": [
    {
     "name": "stdout",
     "output_type": "stream",
     "text": [
      " message: Solution found.\n",
      " success: True\n",
      "  status: 0\n",
      "     fun: -0.0\n",
      "       x: 9.99999335625205\n",
      "     nit: 31\n",
      "    nfev: 31\n",
      "  message: Optimization terminated successfully.\n",
      "  success: True\n",
      "   status: 0\n",
      "      fun: -0.0\n",
      "        x: [-1.000e+01]\n",
      "      nit: 0\n",
      "      jac: [ 0.000e+00]\n",
      " hess_inv: [[1]]\n",
      "     nfev: 2\n",
      "     njev: 1\n"
     ]
    }
   ],
   "source": [
    "from scipy.optimize import minimize_scalar, minimize\n",
    "\n",
    "print(minimize_scalar(lambda x: likelihood(x, items[\"a\"].to_numpy(), items[\"b\"].to_numpy(), items[\"c\"].to_numpy(), items[\"d\"].to_numpy(), response_pattern) * custom_prior.pdf(x) * 10,\n",
    "                bounds=(-10, 10)))\n",
    "\n",
    "print(minimize(lambda x: likelihood(x, items[\"a\"].to_numpy(), items[\"b\"].to_numpy(), items[\"c\"].to_numpy(), items[\"d\"].to_numpy(), response_pattern) * custom_prior.pdf(x) * 10,\n",
    "      x0=-10, callback=lambda res: print(res), method=\"BFGS\"))"
   ]
  },
  {
   "cell_type": "code",
   "execution_count": 26,
   "id": "a7451c12",
   "metadata": {},
   "outputs": [
    {
     "name": "stdout",
     "output_type": "stream",
     "text": [
      "0.005146304854022712\n"
     ]
    }
   ],
   "source": [
    "from scipy.integrate import quad\n",
    "\n",
    "result, _ = quad(lambda mu: -likelihood(mu, items[\"a\"].to_numpy(), items[\"b\"].to_numpy(), items[\"c\"].to_numpy(), items[\"d\"].to_numpy(), response_pattern),\n",
    "     a = -10,\n",
    "     b = 10)\n",
    "\n",
    "print(result)"
   ]
  }
 ],
 "metadata": {
  "kernelspec": {
   "display_name": ".venv",
   "language": "python",
   "name": "python3"
  },
  "language_info": {
   "codemirror_mode": {
    "name": "ipython",
    "version": 3
   },
   "file_extension": ".py",
   "mimetype": "text/x-python",
   "name": "python",
   "nbconvert_exporter": "python",
   "pygments_lexer": "ipython3",
   "version": "3.12.6"
  }
 },
 "nbformat": 4,
 "nbformat_minor": 5
}
