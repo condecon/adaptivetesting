{
 "cells": [
  {
   "cell_type": "code",
   "execution_count": 5,
   "id": "f251eae3",
   "metadata": {},
   "outputs": [],
   "source": [
    "from adaptivetesting.math import generate_response_pattern\n",
    "from adaptivetesting.models import ItemPool\n",
    "import jax.numpy as np\n",
    "import jax.numpy as np\n",
    "from jax import grad\n",
    "from adaptivetesting.math.estimators.__functions.__estimators import log_posterior as log_p"
   ]
  },
  {
   "cell_type": "code",
   "execution_count": 6,
   "id": "17f32434",
   "metadata": {},
   "outputs": [],
   "source": [
    "difficulties = np.array([-0.6265,0.1836,-0.8356])\n",
    "ability = np.array([0], dtype=\"float32\")\n",
    "# convert difficulties into items\n",
    "item_pool = ItemPool.load_from_list(b=difficulties)\n",
    "# generate response pattern\n",
    "response_pattern = np.array(generate_response_pattern(\n",
    "ability,\n",
    "item_pool.test_items,\n",
    "1234))\n",
    "\n",
    "a = np.array([item.a for item in item_pool.test_items])\n",
    "b = np.array([item.b for item in item_pool.test_items])\n",
    "c = np.array([item.c for item in item_pool.test_items])\n",
    "d = np.array([item.d for item in item_pool.test_items])"
   ]
  },
  {
   "cell_type": "code",
   "execution_count": null,
   "id": "abc48e7f",
   "metadata": {},
   "outputs": [],
   "source": [
    "optimization_interval = (-10, 10)\n",
    "\n",
    "log_posterior = lambda mu: log_p(mu, a, b, c, d, response_pattern)\n",
    "# calcualte first derivative of the log-likelihood function\n",
    "score_function = grad(log_posterior)"
   ]
  },
  {
   "cell_type": "code",
   "execution_count": 32,
   "id": "eb21b94c",
   "metadata": {},
   "outputs": [],
   "source": [
    "# discretize domain of score function\n",
    "x = np.linspace(optimization_interval[0], optimization_interval[1], 50000)\n",
    "x = np.expand_dims(x, axis=1)"
   ]
  },
  {
   "cell_type": "code",
   "execution_count": 33,
   "id": "ab2322e1",
   "metadata": {},
   "outputs": [
    {
     "data": {
      "text/plain": [
       "Array([0.00040054], dtype=float32)"
      ]
     },
     "execution_count": 33,
     "metadata": {},
     "output_type": "execute_result"
    }
   ],
   "source": [
    "# small step \n",
    "dx = x[1] - x[0]\n",
    "\n",
    "dx"
   ]
  },
  {
   "cell_type": "code",
   "execution_count": 34,
   "id": "72a104ae",
   "metadata": {},
   "outputs": [],
   "source": [
    "# evaluate function for each point\n",
    "score_function_values_x = np.vectorize(score_function)(x)"
   ]
  },
  {
   "cell_type": "code",
   "execution_count": 14,
   "id": "2d9bb8e9",
   "metadata": {},
   "outputs": [],
   "source": [
    "import matplotlib.pyplot as plt"
   ]
  },
  {
   "cell_type": "code",
   "execution_count": 35,
   "id": "7f5aec67",
   "metadata": {},
   "outputs": [],
   "source": [
    "# calculate the weighted mean\n",
    "weighted_mean = np.sum(x * score_function_values_x * dx)\n",
    "\n",
    "# variance\n",
    "variance = np.sum(((x - weighted_mean)**2) * score_function_values_x * dx)"
   ]
  },
  {
   "cell_type": "code",
   "execution_count": 17,
   "id": "32045f75",
   "metadata": {},
   "outputs": [
    {
     "data": {
      "text/plain": [
       "<matplotlib.collections.LineCollection at 0x20a147f1d90>"
      ]
     },
     "execution_count": 17,
     "metadata": {},
     "output_type": "execute_result"
    },
    {
     "data": {
      "image/png": "[encoded data removed]",
      "text/plain": [
       "<Figure size 640x480 with 1 Axes>"
      ]
     },
     "metadata": {},
     "output_type": "display_data"
    }
   ],
   "source": [
    "plt.plot(x, score_function_values_x)\n",
    "plt.hlines(weighted_mean, -10, 10)"
   ]
  },
  {
   "cell_type": "code",
   "execution_count": 36,
   "id": "cc0a1f3f",
   "metadata": {},
   "outputs": [
    {
     "data": {
      "text/plain": [
       "Array(1.7818465, dtype=float32)"
      ]
     },
     "execution_count": 36,
     "metadata": {},
     "output_type": "execute_result"
    }
   ],
   "source": [
    "np.cov(score_function_values_x.T)"
   ]
  },
  {
   "cell_type": "code",
   "execution_count": 37,
   "id": "fc3e9c00",
   "metadata": {},
   "outputs": [
    {
     "data": {
      "text/plain": [
       "Array(1.3348583, dtype=float32)"
      ]
     },
     "execution_count": 37,
     "metadata": {},
     "output_type": "execute_result"
    }
   ],
   "source": [
    "np.sqrt(np.cov(score_function_values_x.T))"
   ]
  },
  {
   "cell_type": "code",
   "execution_count": 42,
   "id": "f8ef2d76",
   "metadata": {},
   "outputs": [
    {
     "data": {
      "text/plain": [
       "(Array(3.051012e-08, dtype=float32), Array(35.584038, dtype=float32))"
      ]
     },
     "execution_count": 42,
     "metadata": {},
     "output_type": "execute_result"
    }
   ],
   "source": [
    "mean = np.mean(score_function_values_x * dx )\n",
    "variance = np.mean(((score_function_values_x - mean) ** 2) * dx)\n",
    "\n",
    "mean**2,  1 / np.sqrt(variance)"
   ]
  },
  {
   "cell_type": "code",
   "execution_count": 41,
   "id": "507a9269",
   "metadata": {},
   "outputs": [
    {
     "data": {
      "text/plain": [
       "Array(1.7816778, dtype=float32)"
      ]
     },
     "execution_count": 41,
     "metadata": {},
     "output_type": "execute_result"
    }
   ],
   "source": [
    "np.var(score_function_values_x.T)"
   ]
  }
 ],
 "metadata": {
  "kernelspec": {
   "display_name": ".venv",
   "language": "python",
   "name": "python3"
  },
  "language_info": {
   "codemirror_mode": {
    "name": "ipython",
    "version": 3
   },
   "file_extension": ".py",
   "mimetype": "text/x-python",
   "name": "python",
   "nbconvert_exporter": "python",
   "pygments_lexer": "ipython3",
   "version": "3.12.6"
  }
 },
 "nbformat": 4,
 "nbformat_minor": 5
}
